{
 "cells": [
  {
   "cell_type": "code",
   "execution_count": 1,
   "metadata": {},
   "outputs": [],
   "source": [
    "import re\n",
    "from collections import Counter"
   ]
  },
  {
   "cell_type": "code",
   "execution_count": 2,
   "metadata": {},
   "outputs": [],
   "source": [
    "# function to tokenise words\n",
    "def words(document):\n",
    "    \"Convert text to lower case and tokenise the document\"\n",
    "    return re.findall(r'\\w+', document.lower())"
   ]
  },
  {
   "cell_type": "code",
   "execution_count": 3,
   "metadata": {},
   "outputs": [],
   "source": [
    "# create a frequency table of all the words of the document\n",
    "all_words = Counter(words(open('big.txt').read()))"
   ]
  },
  {
   "cell_type": "code",
   "execution_count": 4,
   "metadata": {},
   "outputs": [
    {
     "data": {
      "text/plain": [
       "135"
      ]
     },
     "execution_count": 4,
     "metadata": {},
     "output_type": "execute_result"
    }
   ],
   "source": [
    "# check frequency of a random word, say, 'chair'\n",
    "all_words['chair']"
   ]
  },
  {
   "cell_type": "code",
   "execution_count": 5,
   "metadata": {},
   "outputs": [
    {
     "data": {
      "text/plain": [
       "[('the', 79809),\n",
       " ('of', 40024),\n",
       " ('and', 38312),\n",
       " ('to', 28765),\n",
       " ('in', 22023),\n",
       " ('a', 21124),\n",
       " ('that', 12512),\n",
       " ('he', 12401),\n",
       " ('was', 11410),\n",
       " ('it', 10681)]"
      ]
     },
     "execution_count": 5,
     "metadata": {},
     "output_type": "execute_result"
    }
   ],
   "source": [
    "# look at top 10 frequent words\n",
    "all_words.most_common(10)"
   ]
  },
  {
   "cell_type": "code",
   "execution_count": 6,
   "metadata": {},
   "outputs": [],
   "source": [
    "def edits_one(word):\n",
    "    \"Create all edits that are one edit away from `word`.\"\n",
    "    alphabets    = 'abcdefghijklmnopqrstuvwxyz'\n",
    "    splits     = [(word[:i], word[i:])                   for i in range(len(word) + 1)]\n",
    "    deletes    = [left + right[1:]                       for left, right in splits if right]\n",
    "    inserts    = [left + c + right                       for left, right in splits for c in alphabets]\n",
    "    replaces   = [left + c + right[1:]                   for left, right in splits if right for c in alphabets]\n",
    "    transposes = [left + right[1] + right[0] + right[2:] for left, right in splits if len(right)>1]\n",
    "    return set(deletes + inserts + replaces + transposes)"
   ]
  },
  {
   "cell_type": "code",
   "execution_count": 7,
   "metadata": {},
   "outputs": [],
   "source": [
    "def edits_two(word):\n",
    "    \"Create all edits that are two edits away from `word`.\"\n",
    "    return (e2 for e1 in edits_one(word) for e2 in edits_one(e1))"
   ]
  },
  {
   "cell_type": "code",
   "execution_count": 8,
   "metadata": {},
   "outputs": [],
   "source": [
    "def known(words):\n",
    "    \"The subset of `words` that appear in the `all_words`.\"\n",
    "    return set(word for word in words if word in all_words)"
   ]
  },
  {
   "cell_type": "code",
   "execution_count": 9,
   "metadata": {},
   "outputs": [],
   "source": [
    "def possible_corrections(word):\n",
    "    \"Generate possible spelling corrections for word.\"\n",
    "    return (known([word]) or known(edits_one(word)) or known(edits_two(word)) or [word])"
   ]
  },
  {
   "cell_type": "code",
   "execution_count": 10,
   "metadata": {},
   "outputs": [],
   "source": [
    "def prob(word, N=sum(all_words.values())): \n",
    "    \"Probability of `word`: Number of appearances of 'word' / total number of tokens\"\n",
    "    return all_words[word] / N"
   ]
  },
  {
   "cell_type": "code",
   "execution_count": 11,
   "metadata": {},
   "outputs": [
    {
     "name": "stdout",
     "output_type": "stream",
     "text": [
      "336\n",
      "{'monnexy', 'moncey', 'monnky', 'mgnney', 'monbey', 'monnez', 'manney', 'vonney', 'monneyp', 'monnbey', 'mfnney', 'mdnney', 'montey', 'monnet', 'monhey', 'monneyz', 'msnney', 'monnef', 'monntey', 'monnefy', 'mfonney', 'mosnney', 'imonney', 'mqonney', 'monneyb', 'momney', 'amonney', 'monnuey', 'monyey', 'monnoy', 'monnry', 'monfey', 'mgonney', 'jmonney', 'monneyr', 'moniey', 'menney', 'mofnney', 'mtnney', 'oonney', 'monnkey', 'mononey', 'monnty', 'monnuy', 'monnwy', 'molnney', 'monnqy', 'sonney', 'motney', 'mounney', 'monnwey', 'muonney', 'monned', 'mozney', 'monnezy', 'monnewy', 'mmonney', 'mnoney', 'qmonney', 'monlney', 'monndey', 'monnes', 'momnney', 'yonney', 'wonney', 'monnejy', 'monoey', 'monkney', 'emonney', 'monneyo', 'monnen', 'monnvey', 'uonney', 'mwnney', 'mwonney', 'monnev', 'myonney', 'monnemy', 'mynney', 'monnzy', 'honney', 'monneiy', 'mokney', 'mznney', 'monnsey', 'monnehy', 'monnex', 'monneyx', 'zonney', 'xmonney', 'monnxy', 'monvey', 'mornney', 'monnny', 'modnney', 'pmonney', 'gmonney', 'mcnney', 'monneyu', 'mhonney', 'monneyf', 'monneey', 'monnegy', 'monnec', 'monnley', 'fmonney', 'monneay', 'monrney', 'monnay', 'moqney', 'mtonney', 'mocnney', 'wmonney', 'monuey', 'monyney', 'aonney', 'monneys', 'nonney', 'monnoey', 'movney', 'monnfey', 'monneyd', 'monnhey', 'monnly', 'ionney', 'monrey', 'mopnney', 'monny', 'qonney', 'monnsy', 'monzney', 'monneyg', 'vmonney', 'maonney', 'monngey', 'lonney', 'monsney', 'monnyy', 'monjney', 'monnqey', 'donney', 'monncey', 'mouney', 'moneny', 'monneyy', 'konney', 'moneney', 'monnvy', 'mognney', 'monjey', 'minney', 'mconney', 'monneh', 'mowney', 'mbonney', 'moonney', 'monuney', 'monnaey', 'moeney', 'monnety', 'smonney', 'monneyl', 'monnew', 'monnem', 'mmnney', 'monncy', 'moqnney', 'monneq', 'moneey', 'cmonney', 'moxney', 'mongey', 'mofney', 'monnel', 'mvonney', 'moncney', 'monxney', 'monneuy', 'gonney', 'monneb', 'msonney', 'monnepy', 'mogney', 'moyney', 'omnney', 'mjnney', 'monneym', 'monne', 'jonney', 'morney', 'monngy', 'monpney', 'mkonney', 'moknney', 'mohney', 'monnep', 'monzey', 'monmey', 'mooney', 'monaey', 'monneyh', 'mqnney', 'monneg', 'monnye', 'moniney', 'monxey', 'mocney', 'monmney', 'monkey', 'monnmy', 'monneo', 'montney', 'monniey', 'conney', 'mobnney', 'rmonney', 'monaney', 'tmonney', 'ymonney', 'monfney', 'monpey', 'monneu', 'monnrey', 'monneyi', 'monneyk', 'mosney', 'monnek', 'monnee', 'money', 'monnely', 'monqey', 'mrnney', 'monneky', 'monnesy', 'motnney', 'mponney', 'omonney', 'meonney', 'monneqy', 'kmonney', 'monner', 'eonney', 'monnecy', 'monneny', 'monneyw', 'molney', 'mojnney', 'onney', 'moznney', 'mownney', 'nmonney', 'mknney', 'monneby', 'ponney', 'mronney', 'movnney', 'mlnney', 'mojney', 'mopney', 'monnei', 'mxnney', 'munney', 'mzonney', 'monnjey', 'mvnney', 'mionney', 'moiney', 'mjonney', 'moynney', 'bonney', 'monnfy', 'dmonney', 'mnney', 'mnnney', 'modney', 'monnjy', 'mondey', 'mobney', 'monneyq', 'monneyc', 'moanney', 'xonney', 'monndy', 'monneyv', 'monbney', 'fonney', 'mdonney', 'tonney', 'monneyn', 'mhnney', 'monnpy', 'monnej', 'moenney', 'monneyt', 'monneye', 'monnxey', 'monnea', 'monnedy', 'monqney', 'lmonney', 'monnby', 'mongney', 'monnzey', 'monneya', 'monley', 'mxonney', 'bmonney', 'mnonney', 'umonney', 'monnney', 'monniy', 'mbnney', 'zmonney', 'monnery', 'mondney', 'mlonney', 'monneyj', 'monwney', 'monhney', 'moinney', 'mpnney', 'moaney', 'monney', 'hmonney', 'monnhy', 'monsey', 'monnpey', 'moxnney', 'monneoy', 'ronney', 'monnmey', 'monvney', 'monnevy', 'monnyey', 'monwey', 'mohnney'}\n"
     ]
    }
   ],
   "source": [
    "print(len(set(edits_one(\"monney\"))))\n",
    "print(edits_one(\"monney\"))"
   ]
  },
  {
   "cell_type": "code",
   "execution_count": 12,
   "metadata": {},
   "outputs": [
    {
     "name": "stdout",
     "output_type": "stream",
     "text": [
      "{'monkey', 'money'}\n"
     ]
    }
   ],
   "source": [
    "print(known(edits_one(\"monney\")))"
   ]
  },
  {
   "cell_type": "code",
   "execution_count": 13,
   "metadata": {},
   "outputs": [
    {
     "name": "stdout",
     "output_type": "stream",
     "text": [
      "51013\n",
      "{'monkey', 'money'}\n"
     ]
    }
   ],
   "source": [
    "# Let's look at words that are two edits away\n",
    "print(len(set(edits_two(\"monney\"))))\n",
    "print(known(edits_one(\"monney\")))"
   ]
  },
  {
   "cell_type": "code",
   "execution_count": 14,
   "metadata": {},
   "outputs": [
    {
     "name": "stdout",
     "output_type": "stream",
     "text": [
      "{'monkey', 'money'}\n"
     ]
    }
   ],
   "source": [
    "# Let's look at possible corrections of a word\n",
    "print(possible_corrections(\"monney\"))"
   ]
  },
  {
   "cell_type": "code",
   "execution_count": 15,
   "metadata": {},
   "outputs": [
    {
     "name": "stdout",
     "output_type": "stream",
     "text": [
      "0.0002922233626303688\n",
      "5.378344097491451e-06\n"
     ]
    }
   ],
   "source": [
    "# Let's look at probability of a word\n",
    "print(prob(\"money\"))\n",
    "print(prob(\"monkey\"))"
   ]
  },
  {
   "cell_type": "code",
   "execution_count": 16,
   "metadata": {},
   "outputs": [],
   "source": [
    "def spell_check(word):\n",
    "    \"Print the most probable spelling correction for `word` out of all the `possible_corrections`\"\n",
    "    correct_word = max(possible_corrections(word), key=prob)\n",
    "    if correct_word != word:\n",
    "        return \"Did you mean \" + correct_word + \"?\"\n",
    "    else:\n",
    "        return \"Correct spelling.\""
   ]
  },
  {
   "cell_type": "code",
   "execution_count": 17,
   "metadata": {},
   "outputs": [
    {
     "name": "stdout",
     "output_type": "stream",
     "text": [
      "Did you mean money?\n"
     ]
    }
   ],
   "source": [
    "# test spell check\n",
    "print(spell_check(\"monney\"))"
   ]
  },
  {
   "cell_type": "code",
   "execution_count": 18,
   "metadata": {},
   "outputs": [
    {
     "name": "stdout",
     "output_type": "stream",
     "text": [
      "442\n",
      "90902\n"
     ]
    },
    {
     "data": {
      "text/plain": [
       "{'emphasize'}"
      ]
     },
     "execution_count": 18,
     "metadata": {},
     "output_type": "execute_result"
    }
   ],
   "source": [
    "# lets check the num. of edits_one, edits_two, and possible corr. for the word 'emfasize'\n",
    "\n",
    "print(len((edits_one('emfasize'))))\n",
    "print(len(set((edits_two('emfasize')))))\n",
    "possible_corrections('emfasize')"
   ]
  }
 ],
 "metadata": {
  "kernelspec": {
   "display_name": "Python 3",
   "language": "python",
   "name": "python3"
  },
  "language_info": {
   "codemirror_mode": {
    "name": "ipython",
    "version": 3
   },
   "file_extension": ".py",
   "mimetype": "text/x-python",
   "name": "python",
   "nbconvert_exporter": "python",
   "pygments_lexer": "ipython3",
   "version": "3.7.4"
  }
 },
 "nbformat": 4,
 "nbformat_minor": 2
}
